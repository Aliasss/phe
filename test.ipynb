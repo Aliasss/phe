{
 "cells": [
  {
   "cell_type": "code",
   "execution_count": 2,
   "metadata": {},
   "outputs": [
    {
     "name": "stdout",
     "output_type": "stream",
     "text": [
      "Defaulting to user installation because normal site-packages is not writeable\n",
      "Collecting flask_ngrok\n",
      "  Downloading flask_ngrok-0.0.25-py3-none-any.whl.metadata (1.8 kB)\n",
      "Requirement already satisfied: Flask>=0.8 in /Users/a123/Library/Python/3.9/lib/python/site-packages (from flask_ngrok) (2.2.2)\n",
      "Requirement already satisfied: requests in /Users/a123/Library/Python/3.9/lib/python/site-packages (from flask_ngrok) (2.28.1)\n",
      "Requirement already satisfied: Werkzeug>=2.2.2 in /Users/a123/Library/Python/3.9/lib/python/site-packages (from Flask>=0.8->flask_ngrok) (2.2.2)\n",
      "Requirement already satisfied: Jinja2>=3.0 in /Users/a123/Library/Python/3.9/lib/python/site-packages (from Flask>=0.8->flask_ngrok) (3.1.2)\n",
      "Requirement already satisfied: itsdangerous>=2.0 in /Users/a123/Library/Python/3.9/lib/python/site-packages (from Flask>=0.8->flask_ngrok) (2.1.2)\n",
      "Requirement already satisfied: click>=8.0 in /Users/a123/Library/Python/3.9/lib/python/site-packages (from Flask>=0.8->flask_ngrok) (8.1.3)\n",
      "Requirement already satisfied: importlib-metadata>=3.6.0 in /Users/a123/Library/Python/3.9/lib/python/site-packages (from Flask>=0.8->flask_ngrok) (6.8.0)\n",
      "Requirement already satisfied: charset-normalizer<3,>=2 in /Users/a123/Library/Python/3.9/lib/python/site-packages (from requests->flask_ngrok) (2.1.1)\n",
      "Requirement already satisfied: idna<4,>=2.5 in /Users/a123/Library/Python/3.9/lib/python/site-packages (from requests->flask_ngrok) (3.4)\n",
      "Requirement already satisfied: urllib3<1.27,>=1.21.1 in /Users/a123/Library/Python/3.9/lib/python/site-packages (from requests->flask_ngrok) (1.26.12)\n",
      "Requirement already satisfied: certifi>=2017.4.17 in /Users/a123/Library/Python/3.9/lib/python/site-packages (from requests->flask_ngrok) (2022.9.14)\n",
      "Requirement already satisfied: zipp>=0.5 in /Users/a123/Library/Python/3.9/lib/python/site-packages (from importlib-metadata>=3.6.0->Flask>=0.8->flask_ngrok) (3.8.1)\n",
      "Requirement already satisfied: MarkupSafe>=2.0 in /Users/a123/Library/Python/3.9/lib/python/site-packages (from Jinja2>=3.0->Flask>=0.8->flask_ngrok) (2.1.1)\n",
      "Downloading flask_ngrok-0.0.25-py3-none-any.whl (3.1 kB)\n",
      "Installing collected packages: flask_ngrok\n",
      "Successfully installed flask_ngrok-0.0.25\n",
      "\n",
      "\u001b[1m[\u001b[0m\u001b[34;49mnotice\u001b[0m\u001b[1;39;49m]\u001b[0m\u001b[39;49m A new release of pip is available: \u001b[0m\u001b[31;49m24.1.2\u001b[0m\u001b[39;49m -> \u001b[0m\u001b[32;49m24.2\u001b[0m\n",
      "\u001b[1m[\u001b[0m\u001b[34;49mnotice\u001b[0m\u001b[1;39;49m]\u001b[0m\u001b[39;49m To update, run: \u001b[0m\u001b[32;49m/Library/Developer/CommandLineTools/usr/bin/python3 -m pip install --upgrade pip\u001b[0m\n"
     ]
    }
   ],
   "source": [
    "!pip install flask_ngrok"
   ]
  },
  {
   "cell_type": "code",
   "execution_count": 3,
   "metadata": {},
   "outputs": [],
   "source": [
    "from flask import Flask, request, render_template_string\n",
    "from flask_ngrok import run_with_ngrok"
   ]
  },
  {
   "cell_type": "code",
   "execution_count": 4,
   "metadata": {},
   "outputs": [
    {
     "name": "stdout",
     "output_type": "stream",
     "text": [
      " * Serving Flask app '__main__'\n",
      " * Debug mode: off\n"
     ]
    },
    {
     "name": "stderr",
     "output_type": "stream",
     "text": [
      "WARNING: This is a development server. Do not use it in a production deployment. Use a production WSGI server instead.\n",
      " * Running on http://127.0.0.1:5000\n",
      "Press CTRL+C to quit\n",
      "127.0.0.1 - - [31/Aug/2024 12:24:38] \"GET / HTTP/1.1\" 200 -\n",
      "127.0.0.1 - - [31/Aug/2024 12:24:38] \"GET /favicon.ico HTTP/1.1\" 404 -\n",
      "127.0.0.1 - - [31/Aug/2024 12:24:44] \"POST / HTTP/1.1\" 200 -\n",
      "127.0.0.1 - - [31/Aug/2024 12:24:52] \"POST / HTTP/1.1\" 200 -\n"
     ]
    }
   ],
   "source": [
    "\n",
    "# app = Flask(__name__)\n",
    "\n",
    "# posts = []\n",
    "\n",
    "# @app.route('/', methods=['GET', 'POST'])\n",
    "# def home():\n",
    "#     if request.method == 'POST':\n",
    "#         post = request.form['content']\n",
    "#         posts.append(post)\n",
    "#     return render_template_string('''\n",
    "#         <h1>커뮤니티 게시판</h1>\n",
    "#         <form method=\"post\">\n",
    "#             <textarea name=\"content\"></textarea>\n",
    "#             <input type=\"submit\" value=\"글 작성하기\">\n",
    "#         </form>\n",
    "#         <h2>작성된 글 목록</h2>\n",
    "#         <ul>\n",
    "#         {% for post in posts %}\n",
    "#             <li>{{ post }}</li>\n",
    "#         {% endfor %}\n",
    "#         </ul>\n",
    "#     ''', posts=posts)\n",
    "\n",
    "# if __name__ == '__main__':\n",
    "#     app.run()\n"
   ]
  },
  {
   "cell_type": "code",
   "execution_count": null,
   "metadata": {},
   "outputs": [],
   "source": []
  },
  {
   "cell_type": "code",
   "execution_count": null,
   "metadata": {},
   "outputs": [],
   "source": []
  }
 ],
 "metadata": {
  "kernelspec": {
   "display_name": "Python 3",
   "language": "python",
   "name": "python3"
  },
  "language_info": {
   "codemirror_mode": {
    "name": "ipython",
    "version": 3
   },
   "file_extension": ".py",
   "mimetype": "text/x-python",
   "name": "python",
   "nbconvert_exporter": "python",
   "pygments_lexer": "ipython3",
   "version": "3.9.6"
  }
 },
 "nbformat": 4,
 "nbformat_minor": 2
}
